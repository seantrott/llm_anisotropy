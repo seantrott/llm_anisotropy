{
 "cells": [
  {
   "cell_type": "code",
   "execution_count": 2,
   "id": "36efd462-5476-4a14-afc3-692dedb5ccf2",
   "metadata": {},
   "outputs": [],
   "source": [
    "%matplotlib inline\n",
    "%config InlineBackend.figure_format = 'retina'  # makes figs nicer!\n",
    "\n",
    "import functools\n",
    "import itertools\n",
    "import os\n",
    "import torch\n",
    "import transformers\n",
    "import pandas as pd\n",
    "\n",
    "import numpy as np\n",
    "import pandas as pd\n",
    "import matplotlib.pyplot as plt\n",
    "import seaborn as sns\n",
    "import random\n",
    "\n",
    "from sklearn.decomposition import PCA\n",
    "from scipy.spatial import ConvexHull\n",
    "from tqdm import tqdm\n",
    "\n",
    "\n",
    "from scipy.spatial.distance import cosine\n",
    "from tqdm.notebook import tqdm\n",
    "from transformers import AutoTokenizer\n",
    "from sklearn.metrics.pairwise import cosine_distances\n",
    "\n",
    "\n",
    "sns.set(style='whitegrid',font_scale=1.2)"
   ]
  },
  {
   "cell_type": "code",
   "execution_count": 8,
   "id": "cbb3c71d-6673-42b3-b67f-61e07f6d2d11",
   "metadata": {},
   "outputs": [],
   "source": [
    "tokenizer_xlm = transformers.AutoTokenizer.from_pretrained(\"FacebookAI/xlm-roberta-base\") \n",
    "tokenizer_ml_bert = transformers.AutoTokenizer.from_pretrained(\"google-bert/bert-base-multilingual-cased\")  \n",
    "tokenizer_beto = transformers.AutoTokenizer.from_pretrained(\"dccuchile/bert-base-spanish-wwm-cased\")  \n",
    "tokenizer_bert = transformers.AutoTokenizer.from_pretrained(\"bert-base-cased\")  "
   ]
  },
  {
   "cell_type": "code",
   "execution_count": 9,
   "id": "3025d175-034a-43e5-beab-fad47aa47694",
   "metadata": {},
   "outputs": [],
   "source": [
    "### Faster to check membership in a set than a list\n",
    "xlm_vocab = set(tokenizer_xlm.vocab.keys())\n",
    "ml_bert_vocab = set(tokenizer_ml_bert.vocab.keys())\n",
    "beto_vocab = set(tokenizer_beto.vocab.keys())\n",
    "bert_vocab = set(tokenizer_bert.vocab.keys())"
   ]
  },
  {
   "cell_type": "code",
   "execution_count": 12,
   "id": "62c2a559-7f68-42d0-a64b-2367cce1b1dc",
   "metadata": {},
   "outputs": [
    {
     "data": {
      "application/vnd.jupyter.widget-view+json": {
       "model_id": "2fe08049dc134a46afcf037db4c19adb",
       "version_major": 2,
       "version_minor": 0
      },
      "text/plain": [
       "  0%|          | 0/119547 [00:00<?, ?it/s]"
      ]
     },
     "metadata": {},
     "output_type": "display_data"
    }
   ],
   "source": [
    "ml_bert_tokens = []\n",
    "for t in tqdm(ml_bert_vocab):\n",
    "\n",
    "    ml_bert_tokens.append({\n",
    "        'token': t,\n",
    "        'in_xlm': t in xlm_vocab,\n",
    "        'in_beto': t in beto_vocab,\n",
    "        'in_bert': t in bert_vocab\n",
    "    })"
   ]
  },
  {
   "cell_type": "code",
   "execution_count": 13,
   "id": "8bb3f70d-083b-443c-ad4e-e56a669d3dd3",
   "metadata": {},
   "outputs": [
    {
     "data": {
      "text/html": [
       "<div>\n",
       "<style scoped>\n",
       "    .dataframe tbody tr th:only-of-type {\n",
       "        vertical-align: middle;\n",
       "    }\n",
       "\n",
       "    .dataframe tbody tr th {\n",
       "        vertical-align: top;\n",
       "    }\n",
       "\n",
       "    .dataframe thead th {\n",
       "        text-align: right;\n",
       "    }\n",
       "</style>\n",
       "<table border=\"1\" class=\"dataframe\">\n",
       "  <thead>\n",
       "    <tr style=\"text-align: right;\">\n",
       "      <th></th>\n",
       "      <th>token</th>\n",
       "      <th>in_xlm</th>\n",
       "      <th>in_beto</th>\n",
       "      <th>in_bert</th>\n",
       "    </tr>\n",
       "  </thead>\n",
       "  <tbody>\n",
       "    <tr>\n",
       "      <th>0</th>\n",
       "      <td>Noreg</td>\n",
       "      <td>False</td>\n",
       "      <td>False</td>\n",
       "      <td>False</td>\n",
       "    </tr>\n",
       "    <tr>\n",
       "      <th>1</th>\n",
       "      <td>cambios</td>\n",
       "      <td>False</td>\n",
       "      <td>True</td>\n",
       "      <td>False</td>\n",
       "    </tr>\n",
       "    <tr>\n",
       "      <th>2</th>\n",
       "      <td>##šuje</td>\n",
       "      <td>False</td>\n",
       "      <td>False</td>\n",
       "      <td>False</td>\n",
       "    </tr>\n",
       "  </tbody>\n",
       "</table>\n",
       "</div>"
      ],
      "text/plain": [
       "     token  in_xlm  in_beto  in_bert\n",
       "0    Noreg   False    False    False\n",
       "1  cambios   False     True    False\n",
       "2   ##šuje   False    False    False"
      ]
     },
     "execution_count": 13,
     "metadata": {},
     "output_type": "execute_result"
    }
   ],
   "source": [
    "df_ml_bert_tokens = pd.DataFrame(ml_bert_tokens)\n",
    "df_ml_bert_tokens.head(3)"
   ]
  },
  {
   "cell_type": "code",
   "execution_count": 16,
   "id": "39d8eabc-0aaf-41fa-a9fc-092d23f84bcf",
   "metadata": {},
   "outputs": [
    {
     "data": {
      "text/plain": [
       "in_xlm     0.165341\n",
       "in_beto    0.096196\n",
       "in_bert    0.161142\n",
       "dtype: float64"
      ]
     },
     "execution_count": 16,
     "metadata": {},
     "output_type": "execute_result"
    }
   ],
   "source": [
    "df_ml_bert_tokens[['in_xlm', 'in_beto', 'in_bert']].mean()"
   ]
  },
  {
   "cell_type": "code",
   "execution_count": 22,
   "id": "cbfb74af-c002-43c8-b875-8a1462e6bd4c",
   "metadata": {},
   "outputs": [
    {
     "name": "stdout",
     "output_type": "stream",
     "text": [
      "XLM + ML-BERT: 19766 shared tokens, 7.91% of the larger vocabulary\n",
      "XLM + BETO: 3264 shared tokens, 1.31% of the larger vocabulary\n",
      "XLM + BERT: 3677 shared tokens, 1.47% of the larger vocabulary\n",
      "ML-BERT + BETO: 11500 shared tokens, 9.62% of the larger vocabulary\n",
      "ML-BERT + BERT: 19264 shared tokens, 16.11% of the larger vocabulary\n",
      "BETO + BERT: 5041 shared tokens, 16.26% of the larger vocabulary\n"
     ]
    }
   ],
   "source": [
    "# Calculate intersections and proportions for each pair\n",
    "shared_stats = {}\n",
    "\n",
    "# For each pair of vocab sets, calculate the intersection and proportions\n",
    "for (vocab1_name, vocab1), (vocab2_name, vocab2) in [\n",
    "    (('XLM', xlm_vocab), ('ML-BERT', ml_bert_vocab)),\n",
    "    (('XLM', xlm_vocab), ('BETO', beto_vocab)),\n",
    "    (('XLM', xlm_vocab), ('BERT', bert_vocab)),\n",
    "    (('ML-BERT', ml_bert_vocab), ('BETO', beto_vocab)),\n",
    "    (('ML-BERT', ml_bert_vocab), ('BERT', bert_vocab)),\n",
    "    (('BETO', beto_vocab), ('BERT', bert_vocab))\n",
    "]:\n",
    "    intersection = vocab1.intersection(vocab2)\n",
    "    count_shared = len(intersection)\n",
    "    max_vocab_size = max(len(vocab1), len(vocab2))\n",
    "    proportion_shared = count_shared / max_vocab_size\n",
    "\n",
    "    # Store the results\n",
    "    shared_stats[f'{vocab1_name} + {vocab2_name}'] = {\n",
    "        'shared_count': count_shared,\n",
    "        'proportion_of_larger_vocab': proportion_shared\n",
    "    }\n",
    "\n",
    "# Print the results\n",
    "for pair, stats in shared_stats.items():\n",
    "    print(f\"{pair}: {stats['shared_count']} shared tokens, \"\n",
    "          f\"{stats['proportion_of_larger_vocab']:.2%} of the larger vocabulary\")"
   ]
  },
  {
   "cell_type": "code",
   "execution_count": 40,
   "id": "c03c6500-b5ab-43e1-96c7-f583a4222ca1",
   "metadata": {},
   "outputs": [],
   "source": [
    "import itertools\n",
    "\n",
    "# Define the vocabularies in a dictionary\n",
    "vocab_sets = {\n",
    "    'XLM': xlm_vocab,\n",
    "    'ML-BERT': ml_bert_vocab,\n",
    "    'BETO': beto_vocab,\n",
    "    'BERT': bert_vocab\n",
    "}\n",
    "\n",
    "# Calculate intersections and proportions for each pair dynamically\n",
    "shared_stats = []\n",
    "\n",
    "# Iterate over all combinations of vocab sets\n",
    "for (vocab1_name, vocab1), (vocab2_name, vocab2) in itertools.combinations(vocab_sets.items(), 2):\n",
    "    intersection = vocab1.intersection(vocab2)\n",
    "    count_shared = len(intersection)\n",
    "    max_vocab_size = max(len(vocab1), len(vocab2))\n",
    "    proportion_shared = count_shared / max_vocab_size\n",
    "\n",
    "    # Store the results\n",
    "    # shared_stats[f'{vocab1_name} + {vocab2_name}'] = {\n",
    "    #    'shared_count': count_shared,\n",
    "    #    'proportion_of_larger_vocab': proportion_shared\n",
    "    #}\n",
    "\n",
    "    m1, m2 = sorted([vocab1_name, vocab2_name])\n",
    "\n",
    "    shared_stats.append({\n",
    "        'vocab1_name': vocab1_name,\n",
    "        'vocab2_name': vocab2_name,\n",
    "        'vocab1_size': len(vocab1),\n",
    "        'vocab2_size': len(vocab2),\n",
    "        'shared_count': count_shared,\n",
    "        'proportion_of_larger_vocab': proportion_shared,\n",
    "        'proportion_of_total_vocab': count_shared/(len(vocab1) + len(vocab2)),\n",
    "        'max_vocab_size': max(len(vocab1), len(vocab2))\n",
    "    })"
   ]
  },
  {
   "cell_type": "code",
   "execution_count": 41,
   "id": "908d94e3-d1ac-44c6-ae26-677b22222b70",
   "metadata": {},
   "outputs": [
    {
     "data": {
      "text/html": [
       "<div>\n",
       "<style scoped>\n",
       "    .dataframe tbody tr th:only-of-type {\n",
       "        vertical-align: middle;\n",
       "    }\n",
       "\n",
       "    .dataframe tbody tr th {\n",
       "        vertical-align: top;\n",
       "    }\n",
       "\n",
       "    .dataframe thead th {\n",
       "        text-align: right;\n",
       "    }\n",
       "</style>\n",
       "<table border=\"1\" class=\"dataframe\">\n",
       "  <thead>\n",
       "    <tr style=\"text-align: right;\">\n",
       "      <th></th>\n",
       "      <th>vocab1_name</th>\n",
       "      <th>vocab2_name</th>\n",
       "      <th>vocab1_size</th>\n",
       "      <th>vocab2_size</th>\n",
       "      <th>shared_count</th>\n",
       "      <th>proportion_of_larger_vocab</th>\n",
       "      <th>proportion_of_total_vocab</th>\n",
       "      <th>max_vocab_size</th>\n",
       "    </tr>\n",
       "  </thead>\n",
       "  <tbody>\n",
       "    <tr>\n",
       "      <th>0</th>\n",
       "      <td>XLM</td>\n",
       "      <td>ML-BERT</td>\n",
       "      <td>250002</td>\n",
       "      <td>119547</td>\n",
       "      <td>19766</td>\n",
       "      <td>0.079063</td>\n",
       "      <td>0.053487</td>\n",
       "      <td>250002</td>\n",
       "    </tr>\n",
       "    <tr>\n",
       "      <th>1</th>\n",
       "      <td>XLM</td>\n",
       "      <td>BETO</td>\n",
       "      <td>250002</td>\n",
       "      <td>31002</td>\n",
       "      <td>3264</td>\n",
       "      <td>0.013056</td>\n",
       "      <td>0.011615</td>\n",
       "      <td>250002</td>\n",
       "    </tr>\n",
       "    <tr>\n",
       "      <th>2</th>\n",
       "      <td>XLM</td>\n",
       "      <td>BERT</td>\n",
       "      <td>250002</td>\n",
       "      <td>28996</td>\n",
       "      <td>3677</td>\n",
       "      <td>0.014708</td>\n",
       "      <td>0.013179</td>\n",
       "      <td>250002</td>\n",
       "    </tr>\n",
       "    <tr>\n",
       "      <th>3</th>\n",
       "      <td>ML-BERT</td>\n",
       "      <td>BETO</td>\n",
       "      <td>119547</td>\n",
       "      <td>31002</td>\n",
       "      <td>11500</td>\n",
       "      <td>0.096196</td>\n",
       "      <td>0.076387</td>\n",
       "      <td>119547</td>\n",
       "    </tr>\n",
       "    <tr>\n",
       "      <th>4</th>\n",
       "      <td>ML-BERT</td>\n",
       "      <td>BERT</td>\n",
       "      <td>119547</td>\n",
       "      <td>28996</td>\n",
       "      <td>19264</td>\n",
       "      <td>0.161142</td>\n",
       "      <td>0.129686</td>\n",
       "      <td>119547</td>\n",
       "    </tr>\n",
       "    <tr>\n",
       "      <th>5</th>\n",
       "      <td>BETO</td>\n",
       "      <td>BERT</td>\n",
       "      <td>31002</td>\n",
       "      <td>28996</td>\n",
       "      <td>5041</td>\n",
       "      <td>0.162602</td>\n",
       "      <td>0.084019</td>\n",
       "      <td>31002</td>\n",
       "    </tr>\n",
       "  </tbody>\n",
       "</table>\n",
       "</div>"
      ],
      "text/plain": [
       "  vocab1_name vocab2_name  vocab1_size  vocab2_size  shared_count  \\\n",
       "0         XLM     ML-BERT       250002       119547         19766   \n",
       "1         XLM        BETO       250002        31002          3264   \n",
       "2         XLM        BERT       250002        28996          3677   \n",
       "3     ML-BERT        BETO       119547        31002         11500   \n",
       "4     ML-BERT        BERT       119547        28996         19264   \n",
       "5        BETO        BERT        31002        28996          5041   \n",
       "\n",
       "   proportion_of_larger_vocab  proportion_of_total_vocab  max_vocab_size  \n",
       "0                    0.079063                   0.053487          250002  \n",
       "1                    0.013056                   0.011615          250002  \n",
       "2                    0.014708                   0.013179          250002  \n",
       "3                    0.096196                   0.076387          119547  \n",
       "4                    0.161142                   0.129686          119547  \n",
       "5                    0.162602                   0.084019           31002  "
      ]
     },
     "execution_count": 41,
     "metadata": {},
     "output_type": "execute_result"
    }
   ],
   "source": [
    "pd.DataFrame(shared_stats)"
   ]
  },
  {
   "cell_type": "code",
   "execution_count": null,
   "id": "7f03c2d7-4b6a-46a1-8eb5-8baaab3226a2",
   "metadata": {},
   "outputs": [],
   "source": []
  }
 ],
 "metadata": {
  "kernelspec": {
   "display_name": "Python 3 (ipykernel)",
   "language": "python",
   "name": "python3"
  },
  "language_info": {
   "codemirror_mode": {
    "name": "ipython",
    "version": 3
   },
   "file_extension": ".py",
   "mimetype": "text/x-python",
   "name": "python",
   "nbconvert_exporter": "python",
   "pygments_lexer": "ipython3",
   "version": "3.11.0"
  }
 },
 "nbformat": 4,
 "nbformat_minor": 5
}
